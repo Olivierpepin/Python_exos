{
 "cells": [
  {
   "cell_type": "code",
   "execution_count": 2,
   "source": [
    "import pandas as pd\r\n",
    "\r\n",
    "df = pd.read_csv(\"2020-covid19.csv\", encoding=\"ISO-8859-1\")"
   ],
   "outputs": [],
   "metadata": {}
  },
  {
   "cell_type": "code",
   "execution_count": 3,
   "source": [
    "df"
   ],
   "outputs": [
    {
     "output_type": "execute_result",
     "data": {
      "text/html": [
       "<div>\n",
       "<style scoped>\n",
       "    .dataframe tbody tr th:only-of-type {\n",
       "        vertical-align: middle;\n",
       "    }\n",
       "\n",
       "    .dataframe tbody tr th {\n",
       "        vertical-align: top;\n",
       "    }\n",
       "\n",
       "    .dataframe thead th {\n",
       "        text-align: right;\n",
       "    }\n",
       "</style>\n",
       "<table border=\"1\" class=\"dataframe\">\n",
       "  <thead>\n",
       "    <tr style=\"text-align: right;\">\n",
       "      <th></th>\n",
       "      <th>description</th>\n",
       "      <th>industry</th>\n",
       "      <th>level</th>\n",
       "      <th>size</th>\n",
       "      <th>line_code</th>\n",
       "      <th>value</th>\n",
       "    </tr>\n",
       "  </thead>\n",
       "  <tbody>\n",
       "    <tr>\n",
       "      <th>0</th>\n",
       "      <td>Business status Alert Level 4: Fully operational</td>\n",
       "      <td>total</td>\n",
       "      <td>0</td>\n",
       "      <td>619 employees</td>\n",
       "      <td>C0301.01</td>\n",
       "      <td>6054</td>\n",
       "    </tr>\n",
       "    <tr>\n",
       "      <th>1</th>\n",
       "      <td>Business status Alert Level 4: Fully operational</td>\n",
       "      <td>total</td>\n",
       "      <td>0</td>\n",
       "      <td>2049 employees</td>\n",
       "      <td>C0301.01</td>\n",
       "      <td>1650</td>\n",
       "    </tr>\n",
       "    <tr>\n",
       "      <th>2</th>\n",
       "      <td>Business status Alert Level 4: Fully operational</td>\n",
       "      <td>total</td>\n",
       "      <td>0</td>\n",
       "      <td>5099 employees</td>\n",
       "      <td>C0301.01</td>\n",
       "      <td>735</td>\n",
       "    </tr>\n",
       "    <tr>\n",
       "      <th>3</th>\n",
       "      <td>Business status Alert Level 4: Fully operational</td>\n",
       "      <td>total</td>\n",
       "      <td>0</td>\n",
       "      <td>100+ employees</td>\n",
       "      <td>C0301.01</td>\n",
       "      <td>711</td>\n",
       "    </tr>\n",
       "    <tr>\n",
       "      <th>4</th>\n",
       "      <td>Business status Alert Level 4: Fully operational</td>\n",
       "      <td>Agriculture, forestry, &amp; fishing</td>\n",
       "      <td>1</td>\n",
       "      <td>total</td>\n",
       "      <td>C0301.01</td>\n",
       "      <td>2175</td>\n",
       "    </tr>\n",
       "    <tr>\n",
       "      <th>...</th>\n",
       "      <td>...</td>\n",
       "      <td>...</td>\n",
       "      <td>...</td>\n",
       "      <td>...</td>\n",
       "      <td>...</td>\n",
       "      <td>...</td>\n",
       "    </tr>\n",
       "    <tr>\n",
       "      <th>10053</th>\n",
       "      <td>Reasons why you expect COVID-19 pandemic to ch...</td>\n",
       "      <td>Education &amp; training</td>\n",
       "      <td>1</td>\n",
       "      <td>total</td>\n",
       "      <td>C2309</td>\n",
       "      <td>21</td>\n",
       "    </tr>\n",
       "    <tr>\n",
       "      <th>10054</th>\n",
       "      <td>Reasons why you expect COVID-19 pandemic to ch...</td>\n",
       "      <td>Health care &amp; social assistance</td>\n",
       "      <td>1</td>\n",
       "      <td>total</td>\n",
       "      <td>C2309</td>\n",
       "      <td>27</td>\n",
       "    </tr>\n",
       "    <tr>\n",
       "      <th>10055</th>\n",
       "      <td>Reasons why you expect COVID-19 pandemic to ch...</td>\n",
       "      <td>Arts &amp; recreation services</td>\n",
       "      <td>1</td>\n",
       "      <td>total</td>\n",
       "      <td>C2309</td>\n",
       "      <td>0</td>\n",
       "    </tr>\n",
       "    <tr>\n",
       "      <th>10056</th>\n",
       "      <td>Reasons why you expect COVID-19 pandemic to ch...</td>\n",
       "      <td>Other services</td>\n",
       "      <td>1</td>\n",
       "      <td>total</td>\n",
       "      <td>C2309</td>\n",
       "      <td>12</td>\n",
       "    </tr>\n",
       "    <tr>\n",
       "      <th>10057</th>\n",
       "      <td>Reasons why you expect COVID-19 pandemic to ch...</td>\n",
       "      <td>total</td>\n",
       "      <td>0</td>\n",
       "      <td>total</td>\n",
       "      <td>C2309</td>\n",
       "      <td>231</td>\n",
       "    </tr>\n",
       "  </tbody>\n",
       "</table>\n",
       "<p>10058 rows × 6 columns</p>\n",
       "</div>"
      ],
      "text/plain": [
       "                                             description  \\\n",
       "0       Business status Alert Level 4: Fully operational   \n",
       "1       Business status Alert Level 4: Fully operational   \n",
       "2       Business status Alert Level 4: Fully operational   \n",
       "3       Business status Alert Level 4: Fully operational   \n",
       "4       Business status Alert Level 4: Fully operational   \n",
       "...                                                  ...   \n",
       "10053  Reasons why you expect COVID-19 pandemic to ch...   \n",
       "10054  Reasons why you expect COVID-19 pandemic to ch...   \n",
       "10055  Reasons why you expect COVID-19 pandemic to ch...   \n",
       "10056  Reasons why you expect COVID-19 pandemic to ch...   \n",
       "10057  Reasons why you expect COVID-19 pandemic to ch...   \n",
       "\n",
       "                               industry  level            size line_code  \\\n",
       "0                                 total      0   619 employees  C0301.01   \n",
       "1                                 total      0  2049 employees  C0301.01   \n",
       "2                                 total      0  5099 employees  C0301.01   \n",
       "3                                 total      0  100+ employees  C0301.01   \n",
       "4      Agriculture, forestry, & fishing      1           total  C0301.01   \n",
       "...                                 ...    ...             ...       ...   \n",
       "10053              Education & training      1           total     C2309   \n",
       "10054   Health care & social assistance      1           total     C2309   \n",
       "10055        Arts & recreation services      1           total     C2309   \n",
       "10056                    Other services      1           total     C2309   \n",
       "10057                             total      0           total     C2309   \n",
       "\n",
       "       value  \n",
       "0       6054  \n",
       "1       1650  \n",
       "2        735  \n",
       "3        711  \n",
       "4       2175  \n",
       "...      ...  \n",
       "10053     21  \n",
       "10054     27  \n",
       "10055      0  \n",
       "10056     12  \n",
       "10057    231  \n",
       "\n",
       "[10058 rows x 6 columns]"
      ]
     },
     "metadata": {},
     "execution_count": 3
    }
   ],
   "metadata": {}
  },
  {
   "cell_type": "code",
   "execution_count": 10,
   "source": [
    "import numpy"
   ],
   "outputs": [],
   "metadata": {}
  },
  {
   "cell_type": "code",
   "execution_count": 7,
   "source": [
    "print('yes')"
   ],
   "outputs": [
    {
     "output_type": "stream",
     "name": "stdout",
     "text": [
      "yes\n"
     ]
    }
   ],
   "metadata": {}
  },
  {
   "cell_type": "code",
   "execution_count": 15,
   "source": [
    "x = 2"
   ],
   "outputs": [],
   "metadata": {}
  },
  {
   "cell_type": "code",
   "execution_count": 13,
   "source": [
    "def fct(x):\r\n",
    "    print(\"Salut \", x)"
   ],
   "outputs": [],
   "metadata": {}
  },
  {
   "cell_type": "markdown",
   "source": [
    "# Exercice 1"
   ],
   "metadata": {}
  },
  {
   "cell_type": "code",
   "execution_count": 16,
   "source": [
    "fct(x)"
   ],
   "outputs": [
    {
     "output_type": "stream",
     "name": "stdout",
     "text": [
      "Salut  2\n"
     ]
    }
   ],
   "metadata": {}
  },
  {
   "cell_type": "code",
   "execution_count": null,
   "source": [],
   "outputs": [],
   "metadata": {}
  }
 ],
 "metadata": {
  "kernelspec": {
   "name": "python3",
   "display_name": "Python 3.9.7 64-bit"
  },
  "language_info": {
   "codemirror_mode": {
    "name": "ipython",
    "version": 3
   },
   "file_extension": ".py",
   "mimetype": "text/x-python",
   "name": "python",
   "nbconvert_exporter": "python",
   "pygments_lexer": "ipython3",
   "version": "3.9.7"
  },
  "interpreter": {
   "hash": "897bd8fae9c295268f0ed4a52dd4983b1dbbb5604a6168c207495c25751b672d"
  }
 },
 "nbformat": 4,
 "nbformat_minor": 5
}