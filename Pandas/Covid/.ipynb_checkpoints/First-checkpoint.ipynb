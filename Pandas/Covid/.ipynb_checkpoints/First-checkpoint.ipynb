{
 "cells": [
  {
   "cell_type": "code",
   "execution_count": 9,
   "id": "ad651add-c340-499f-905c-0c06969c5333",
   "metadata": {},
   "outputs": [],
   "source": [
    "import pandas as pd"
   ]
  },
  {
   "cell_type": "code",
   "execution_count": 10,
   "id": "3005bb1d-8e25-4b36-8fec-7e359aa8787f",
   "metadata": {},
   "outputs": [],
   "source": [
    "import numpy"
   ]
  },
  {
   "cell_type": "code",
   "execution_count": 7,
   "id": "142403b4-d855-4812-805b-b843d7472a7e",
   "metadata": {},
   "outputs": [
    {
     "name": "stdout",
     "output_type": "stream",
     "text": [
      "yes\n"
     ]
    }
   ],
   "source": [
    "print('yes')"
   ]
  },
  {
   "cell_type": "code",
   "execution_count": 15,
   "id": "a206e626-c0be-4b02-843f-4063c07ad2a4",
   "metadata": {},
   "outputs": [],
   "source": [
    "x = 2"
   ]
  },
  {
   "cell_type": "code",
   "execution_count": 13,
   "id": "7cae2044-40af-4db5-b155-bf7fce06ff3c",
   "metadata": {},
   "outputs": [],
   "source": [
    "def fct(x):\n",
    "    print(\"Salut \", x)"
   ]
  },
  {
   "cell_type": "markdown",
   "id": "7fc8edf8-c63d-4083-9dcb-640201f933c3",
   "metadata": {},
   "source": [
    "# Exercice 1"
   ]
  },
  {
   "cell_type": "code",
   "execution_count": 16,
   "id": "9d7c9977-45fd-4fed-9690-abf63e523b24",
   "metadata": {},
   "outputs": [
    {
     "name": "stdout",
     "output_type": "stream",
     "text": [
      "Salut  2\n"
     ]
    }
   ],
   "source": [
    "fct(x)"
   ]
  },
  {
   "cell_type": "code",
   "execution_count": null,
   "id": "61633066-be00-4969-985d-54784413ca34",
   "metadata": {},
   "outputs": [],
   "source": []
  }
 ],
 "metadata": {
  "kernelspec": {
   "display_name": "Python 3 (ipykernel)",
   "language": "python",
   "name": "python3"
  },
  "language_info": {
   "codemirror_mode": {
    "name": "ipython",
    "version": 3
   },
   "file_extension": ".py",
   "mimetype": "text/x-python",
   "name": "python",
   "nbconvert_exporter": "python",
   "pygments_lexer": "ipython3",
   "version": "3.9.7"
  }
 },
 "nbformat": 4,
 "nbformat_minor": 5
}
